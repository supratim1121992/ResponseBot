{
  "nbformat": 4,
  "nbformat_minor": 0,
  "metadata": {
    "colab": {
      "provenance": []
    },
    "kernelspec": {
      "name": "python3",
      "display_name": "Python 3"
    },
    "language_info": {
      "name": "python"
    },
    "accelerator": "GPU",
    "gpuClass": "standard",
    "widgets": {
      "application/vnd.jupyter.widget-state+json": {
        "75910ee0bab74f47a9a4a11c88f584b5": {
          "model_module": "@jupyter-widgets/controls",
          "model_name": "HBoxModel",
          "model_module_version": "1.5.0",
          "state": {
            "_dom_classes": [],
            "_model_module": "@jupyter-widgets/controls",
            "_model_module_version": "1.5.0",
            "_model_name": "HBoxModel",
            "_view_count": null,
            "_view_module": "@jupyter-widgets/controls",
            "_view_module_version": "1.5.0",
            "_view_name": "HBoxView",
            "box_style": "",
            "children": [
              "IPY_MODEL_312248dd521642678547ab8af879f163",
              "IPY_MODEL_9e68f8bfbaf147c2a87b5614cbf85735",
              "IPY_MODEL_2cd84f2aeeeb4820905cf4278378eee6"
            ],
            "layout": "IPY_MODEL_75e46ea96ae949b5b7d05a9965477918"
          }
        },
        "312248dd521642678547ab8af879f163": {
          "model_module": "@jupyter-widgets/controls",
          "model_name": "HTMLModel",
          "model_module_version": "1.5.0",
          "state": {
            "_dom_classes": [],
            "_model_module": "@jupyter-widgets/controls",
            "_model_module_version": "1.5.0",
            "_model_name": "HTMLModel",
            "_view_count": null,
            "_view_module": "@jupyter-widgets/controls",
            "_view_module_version": "1.5.0",
            "_view_name": "HTMLView",
            "description": "",
            "description_tooltip": null,
            "layout": "IPY_MODEL_6d9537e3e863412b91f3c3ce4a2a2f2a",
            "placeholder": "​",
            "style": "IPY_MODEL_6910646472874795aeafb7fcef988065",
            "value": "100%"
          }
        },
        "9e68f8bfbaf147c2a87b5614cbf85735": {
          "model_module": "@jupyter-widgets/controls",
          "model_name": "FloatProgressModel",
          "model_module_version": "1.5.0",
          "state": {
            "_dom_classes": [],
            "_model_module": "@jupyter-widgets/controls",
            "_model_module_version": "1.5.0",
            "_model_name": "FloatProgressModel",
            "_view_count": null,
            "_view_module": "@jupyter-widgets/controls",
            "_view_module_version": "1.5.0",
            "_view_name": "ProgressView",
            "bar_style": "success",
            "description": "",
            "description_tooltip": null,
            "layout": "IPY_MODEL_a9271855a2db40cd824e917f428ae17b",
            "max": 545146,
            "min": 0,
            "orientation": "horizontal",
            "style": "IPY_MODEL_8dcbd4aea1b64d76b40c45849cbe17c4",
            "value": 545146
          }
        },
        "2cd84f2aeeeb4820905cf4278378eee6": {
          "model_module": "@jupyter-widgets/controls",
          "model_name": "HTMLModel",
          "model_module_version": "1.5.0",
          "state": {
            "_dom_classes": [],
            "_model_module": "@jupyter-widgets/controls",
            "_model_module_version": "1.5.0",
            "_model_name": "HTMLModel",
            "_view_count": null,
            "_view_module": "@jupyter-widgets/controls",
            "_view_module_version": "1.5.0",
            "_view_name": "HTMLView",
            "description": "",
            "description_tooltip": null,
            "layout": "IPY_MODEL_4a35e33435db477e8095c85aa26ed6a5",
            "placeholder": "​",
            "style": "IPY_MODEL_7548ede01bd6417089739fc67967e8cf",
            "value": " 545146/545146 [00:19&lt;00:00, 29508.11it/s]"
          }
        },
        "75e46ea96ae949b5b7d05a9965477918": {
          "model_module": "@jupyter-widgets/base",
          "model_name": "LayoutModel",
          "model_module_version": "1.2.0",
          "state": {
            "_model_module": "@jupyter-widgets/base",
            "_model_module_version": "1.2.0",
            "_model_name": "LayoutModel",
            "_view_count": null,
            "_view_module": "@jupyter-widgets/base",
            "_view_module_version": "1.2.0",
            "_view_name": "LayoutView",
            "align_content": null,
            "align_items": null,
            "align_self": null,
            "border": null,
            "bottom": null,
            "display": null,
            "flex": null,
            "flex_flow": null,
            "grid_area": null,
            "grid_auto_columns": null,
            "grid_auto_flow": null,
            "grid_auto_rows": null,
            "grid_column": null,
            "grid_gap": null,
            "grid_row": null,
            "grid_template_areas": null,
            "grid_template_columns": null,
            "grid_template_rows": null,
            "height": null,
            "justify_content": null,
            "justify_items": null,
            "left": null,
            "margin": null,
            "max_height": null,
            "max_width": null,
            "min_height": null,
            "min_width": null,
            "object_fit": null,
            "object_position": null,
            "order": null,
            "overflow": null,
            "overflow_x": null,
            "overflow_y": null,
            "padding": null,
            "right": null,
            "top": null,
            "visibility": null,
            "width": null
          }
        },
        "6d9537e3e863412b91f3c3ce4a2a2f2a": {
          "model_module": "@jupyter-widgets/base",
          "model_name": "LayoutModel",
          "model_module_version": "1.2.0",
          "state": {
            "_model_module": "@jupyter-widgets/base",
            "_model_module_version": "1.2.0",
            "_model_name": "LayoutModel",
            "_view_count": null,
            "_view_module": "@jupyter-widgets/base",
            "_view_module_version": "1.2.0",
            "_view_name": "LayoutView",
            "align_content": null,
            "align_items": null,
            "align_self": null,
            "border": null,
            "bottom": null,
            "display": null,
            "flex": null,
            "flex_flow": null,
            "grid_area": null,
            "grid_auto_columns": null,
            "grid_auto_flow": null,
            "grid_auto_rows": null,
            "grid_column": null,
            "grid_gap": null,
            "grid_row": null,
            "grid_template_areas": null,
            "grid_template_columns": null,
            "grid_template_rows": null,
            "height": null,
            "justify_content": null,
            "justify_items": null,
            "left": null,
            "margin": null,
            "max_height": null,
            "max_width": null,
            "min_height": null,
            "min_width": null,
            "object_fit": null,
            "object_position": null,
            "order": null,
            "overflow": null,
            "overflow_x": null,
            "overflow_y": null,
            "padding": null,
            "right": null,
            "top": null,
            "visibility": null,
            "width": null
          }
        },
        "6910646472874795aeafb7fcef988065": {
          "model_module": "@jupyter-widgets/controls",
          "model_name": "DescriptionStyleModel",
          "model_module_version": "1.5.0",
          "state": {
            "_model_module": "@jupyter-widgets/controls",
            "_model_module_version": "1.5.0",
            "_model_name": "DescriptionStyleModel",
            "_view_count": null,
            "_view_module": "@jupyter-widgets/base",
            "_view_module_version": "1.2.0",
            "_view_name": "StyleView",
            "description_width": ""
          }
        },
        "a9271855a2db40cd824e917f428ae17b": {
          "model_module": "@jupyter-widgets/base",
          "model_name": "LayoutModel",
          "model_module_version": "1.2.0",
          "state": {
            "_model_module": "@jupyter-widgets/base",
            "_model_module_version": "1.2.0",
            "_model_name": "LayoutModel",
            "_view_count": null,
            "_view_module": "@jupyter-widgets/base",
            "_view_module_version": "1.2.0",
            "_view_name": "LayoutView",
            "align_content": null,
            "align_items": null,
            "align_self": null,
            "border": null,
            "bottom": null,
            "display": null,
            "flex": null,
            "flex_flow": null,
            "grid_area": null,
            "grid_auto_columns": null,
            "grid_auto_flow": null,
            "grid_auto_rows": null,
            "grid_column": null,
            "grid_gap": null,
            "grid_row": null,
            "grid_template_areas": null,
            "grid_template_columns": null,
            "grid_template_rows": null,
            "height": null,
            "justify_content": null,
            "justify_items": null,
            "left": null,
            "margin": null,
            "max_height": null,
            "max_width": null,
            "min_height": null,
            "min_width": null,
            "object_fit": null,
            "object_position": null,
            "order": null,
            "overflow": null,
            "overflow_x": null,
            "overflow_y": null,
            "padding": null,
            "right": null,
            "top": null,
            "visibility": null,
            "width": null
          }
        },
        "8dcbd4aea1b64d76b40c45849cbe17c4": {
          "model_module": "@jupyter-widgets/controls",
          "model_name": "ProgressStyleModel",
          "model_module_version": "1.5.0",
          "state": {
            "_model_module": "@jupyter-widgets/controls",
            "_model_module_version": "1.5.0",
            "_model_name": "ProgressStyleModel",
            "_view_count": null,
            "_view_module": "@jupyter-widgets/base",
            "_view_module_version": "1.2.0",
            "_view_name": "StyleView",
            "bar_color": null,
            "description_width": ""
          }
        },
        "4a35e33435db477e8095c85aa26ed6a5": {
          "model_module": "@jupyter-widgets/base",
          "model_name": "LayoutModel",
          "model_module_version": "1.2.0",
          "state": {
            "_model_module": "@jupyter-widgets/base",
            "_model_module_version": "1.2.0",
            "_model_name": "LayoutModel",
            "_view_count": null,
            "_view_module": "@jupyter-widgets/base",
            "_view_module_version": "1.2.0",
            "_view_name": "LayoutView",
            "align_content": null,
            "align_items": null,
            "align_self": null,
            "border": null,
            "bottom": null,
            "display": null,
            "flex": null,
            "flex_flow": null,
            "grid_area": null,
            "grid_auto_columns": null,
            "grid_auto_flow": null,
            "grid_auto_rows": null,
            "grid_column": null,
            "grid_gap": null,
            "grid_row": null,
            "grid_template_areas": null,
            "grid_template_columns": null,
            "grid_template_rows": null,
            "height": null,
            "justify_content": null,
            "justify_items": null,
            "left": null,
            "margin": null,
            "max_height": null,
            "max_width": null,
            "min_height": null,
            "min_width": null,
            "object_fit": null,
            "object_position": null,
            "order": null,
            "overflow": null,
            "overflow_x": null,
            "overflow_y": null,
            "padding": null,
            "right": null,
            "top": null,
            "visibility": null,
            "width": null
          }
        },
        "7548ede01bd6417089739fc67967e8cf": {
          "model_module": "@jupyter-widgets/controls",
          "model_name": "DescriptionStyleModel",
          "model_module_version": "1.5.0",
          "state": {
            "_model_module": "@jupyter-widgets/controls",
            "_model_module_version": "1.5.0",
            "_model_name": "DescriptionStyleModel",
            "_view_count": null,
            "_view_module": "@jupyter-widgets/base",
            "_view_module_version": "1.2.0",
            "_view_name": "StyleView",
            "description_width": ""
          }
        },
        "aaee1d8d43df491ea0cd6df0d2fa1fd4": {
          "model_module": "@jupyter-widgets/base",
          "model_name": "LayoutModel",
          "model_module_version": "1.2.0",
          "state": {
            "_model_module": "@jupyter-widgets/base",
            "_model_module_version": "1.2.0",
            "_model_name": "LayoutModel",
            "_view_count": null,
            "_view_module": "@jupyter-widgets/base",
            "_view_module_version": "1.2.0",
            "_view_name": "LayoutView",
            "align_content": null,
            "align_items": null,
            "align_self": null,
            "border": null,
            "bottom": null,
            "display": null,
            "flex": null,
            "flex_flow": null,
            "grid_area": null,
            "grid_auto_columns": null,
            "grid_auto_flow": null,
            "grid_auto_rows": null,
            "grid_column": null,
            "grid_gap": null,
            "grid_row": null,
            "grid_template_areas": null,
            "grid_template_columns": null,
            "grid_template_rows": null,
            "height": null,
            "justify_content": null,
            "justify_items": null,
            "left": null,
            "margin": null,
            "max_height": null,
            "max_width": null,
            "min_height": null,
            "min_width": null,
            "object_fit": null,
            "object_position": null,
            "order": null,
            "overflow": null,
            "overflow_x": null,
            "overflow_y": null,
            "padding": null,
            "right": null,
            "top": null,
            "visibility": null,
            "width": null
          }
        },
        "6c8b917e14b54f1a967bb166730a09f8": {
          "model_module": "@jupyter-widgets/controls",
          "model_name": "ProgressStyleModel",
          "model_module_version": "1.5.0",
          "state": {
            "_model_module": "@jupyter-widgets/controls",
            "_model_module_version": "1.5.0",
            "_model_name": "ProgressStyleModel",
            "_view_count": null,
            "_view_module": "@jupyter-widgets/base",
            "_view_module_version": "1.2.0",
            "_view_name": "StyleView",
            "bar_color": null,
            "description_width": ""
          }
        },
        "76d6af96f03842ab890b492039cd7e06": {
          "model_module": "@jupyter-widgets/base",
          "model_name": "LayoutModel",
          "model_module_version": "1.2.0",
          "state": {
            "_model_module": "@jupyter-widgets/base",
            "_model_module_version": "1.2.0",
            "_model_name": "LayoutModel",
            "_view_count": null,
            "_view_module": "@jupyter-widgets/base",
            "_view_module_version": "1.2.0",
            "_view_name": "LayoutView",
            "align_content": null,
            "align_items": null,
            "align_self": null,
            "border": null,
            "bottom": null,
            "display": null,
            "flex": null,
            "flex_flow": null,
            "grid_area": null,
            "grid_auto_columns": null,
            "grid_auto_flow": null,
            "grid_auto_rows": null,
            "grid_column": null,
            "grid_gap": null,
            "grid_row": null,
            "grid_template_areas": null,
            "grid_template_columns": null,
            "grid_template_rows": null,
            "height": null,
            "justify_content": null,
            "justify_items": null,
            "left": null,
            "margin": null,
            "max_height": null,
            "max_width": null,
            "min_height": null,
            "min_width": null,
            "object_fit": null,
            "object_position": null,
            "order": null,
            "overflow": null,
            "overflow_x": null,
            "overflow_y": null,
            "padding": null,
            "right": null,
            "top": null,
            "visibility": null,
            "width": null
          }
        },
        "3db3b163ceaa491fafe6a39b16878561": {
          "model_module": "@jupyter-widgets/controls",
          "model_name": "DescriptionStyleModel",
          "model_module_version": "1.5.0",
          "state": {
            "_model_module": "@jupyter-widgets/controls",
            "_model_module_version": "1.5.0",
            "_model_name": "DescriptionStyleModel",
            "_view_count": null,
            "_view_module": "@jupyter-widgets/base",
            "_view_module_version": "1.2.0",
            "_view_name": "StyleView",
            "description_width": ""
          }
        },
        "e0f3cf8fefeb4c17a71ba4585e6af199": {
          "model_module": "@jupyter-widgets/base",
          "model_name": "LayoutModel",
          "model_module_version": "1.2.0",
          "state": {
            "_model_module": "@jupyter-widgets/base",
            "_model_module_version": "1.2.0",
            "_model_name": "LayoutModel",
            "_view_count": null,
            "_view_module": "@jupyter-widgets/base",
            "_view_module_version": "1.2.0",
            "_view_name": "LayoutView",
            "align_content": null,
            "align_items": null,
            "align_self": null,
            "border": null,
            "bottom": null,
            "display": null,
            "flex": null,
            "flex_flow": null,
            "grid_area": null,
            "grid_auto_columns": null,
            "grid_auto_flow": null,
            "grid_auto_rows": null,
            "grid_column": null,
            "grid_gap": null,
            "grid_row": null,
            "grid_template_areas": null,
            "grid_template_columns": null,
            "grid_template_rows": null,
            "height": null,
            "justify_content": null,
            "justify_items": null,
            "left": null,
            "margin": null,
            "max_height": null,
            "max_width": null,
            "min_height": null,
            "min_width": null,
            "object_fit": null,
            "object_position": null,
            "order": null,
            "overflow": null,
            "overflow_x": null,
            "overflow_y": null,
            "padding": null,
            "right": null,
            "top": null,
            "visibility": null,
            "width": null
          }
        },
        "30789f1d92fe4af98528c06e26c595d1": {
          "model_module": "@jupyter-widgets/controls",
          "model_name": "DescriptionStyleModel",
          "model_module_version": "1.5.0",
          "state": {
            "_model_module": "@jupyter-widgets/controls",
            "_model_module_version": "1.5.0",
            "_model_name": "DescriptionStyleModel",
            "_view_count": null,
            "_view_module": "@jupyter-widgets/base",
            "_view_module_version": "1.2.0",
            "_view_name": "StyleView",
            "description_width": ""
          }
        },
        "f2c58fc65ea643fba5b7c04816e452a4": {
          "model_module": "@jupyter-widgets/controls",
          "model_name": "HTMLModel",
          "model_module_version": "1.5.0",
          "state": {
            "_dom_classes": [],
            "_model_module": "@jupyter-widgets/controls",
            "_model_module_version": "1.5.0",
            "_model_name": "HTMLModel",
            "_view_count": null,
            "_view_module": "@jupyter-widgets/controls",
            "_view_module_version": "1.5.0",
            "_view_name": "HTMLView",
            "description": "",
            "description_tooltip": null,
            "layout": "IPY_MODEL_76d6af96f03842ab890b492039cd7e06",
            "placeholder": "​",
            "style": "IPY_MODEL_3db3b163ceaa491fafe6a39b16878561",
            "value": "100%"
          }
        },
        "61957db42dea4783bff240c4ed1ed6d1": {
          "model_module": "@jupyter-widgets/controls",
          "model_name": "FloatProgressModel",
          "model_module_version": "1.5.0",
          "state": {
            "_dom_classes": [],
            "_model_module": "@jupyter-widgets/controls",
            "_model_module_version": "1.5.0",
            "_model_name": "FloatProgressModel",
            "_view_count": null,
            "_view_module": "@jupyter-widgets/controls",
            "_view_module_version": "1.5.0",
            "_view_name": "ProgressView",
            "bar_style": "success",
            "description": "",
            "description_tooltip": null,
            "layout": "IPY_MODEL_aaee1d8d43df491ea0cd6df0d2fa1fd4",
            "max": 545146,
            "min": 0,
            "orientation": "horizontal",
            "style": "IPY_MODEL_6c8b917e14b54f1a967bb166730a09f8",
            "value": 545146
          }
        },
        "c07f1ef2d4424e3abf96a9df7143787e": {
          "model_module": "@jupyter-widgets/controls",
          "model_name": "HTMLModel",
          "model_module_version": "1.5.0",
          "state": {
            "_dom_classes": [],
            "_model_module": "@jupyter-widgets/controls",
            "_model_module_version": "1.5.0",
            "_model_name": "HTMLModel",
            "_view_count": null,
            "_view_module": "@jupyter-widgets/controls",
            "_view_module_version": "1.5.0",
            "_view_name": "HTMLView",
            "description": "",
            "description_tooltip": null,
            "layout": "IPY_MODEL_e0f3cf8fefeb4c17a71ba4585e6af199",
            "placeholder": "​",
            "style": "IPY_MODEL_30789f1d92fe4af98528c06e26c595d1",
            "value": " 545146/545146 [00:30&lt;00:00, 16392.23it/s]"
          }
        },
        "f8dd17a83ba04231ae04a2eeaedae2a1": {
          "model_module": "@jupyter-widgets/base",
          "model_name": "LayoutModel",
          "model_module_version": "1.2.0",
          "state": {
            "_model_module": "@jupyter-widgets/base",
            "_model_module_version": "1.2.0",
            "_model_name": "LayoutModel",
            "_view_count": null,
            "_view_module": "@jupyter-widgets/base",
            "_view_module_version": "1.2.0",
            "_view_name": "LayoutView",
            "align_content": null,
            "align_items": null,
            "align_self": null,
            "border": null,
            "bottom": null,
            "display": null,
            "flex": null,
            "flex_flow": null,
            "grid_area": null,
            "grid_auto_columns": null,
            "grid_auto_flow": null,
            "grid_auto_rows": null,
            "grid_column": null,
            "grid_gap": null,
            "grid_row": null,
            "grid_template_areas": null,
            "grid_template_columns": null,
            "grid_template_rows": null,
            "height": null,
            "justify_content": null,
            "justify_items": null,
            "left": null,
            "margin": null,
            "max_height": null,
            "max_width": null,
            "min_height": null,
            "min_width": null,
            "object_fit": null,
            "object_position": null,
            "order": null,
            "overflow": null,
            "overflow_x": null,
            "overflow_y": null,
            "padding": null,
            "right": null,
            "top": null,
            "visibility": null,
            "width": null
          }
        },
        "5385d27a300f4a41ac8a78bf96c19cf1": {
          "model_module": "@jupyter-widgets/controls",
          "model_name": "HBoxModel",
          "model_module_version": "1.5.0",
          "state": {
            "_dom_classes": [],
            "_model_module": "@jupyter-widgets/controls",
            "_model_module_version": "1.5.0",
            "_model_name": "HBoxModel",
            "_view_count": null,
            "_view_module": "@jupyter-widgets/controls",
            "_view_module_version": "1.5.0",
            "_view_name": "HBoxView",
            "box_style": "",
            "children": [
              "IPY_MODEL_f2c58fc65ea643fba5b7c04816e452a4",
              "IPY_MODEL_61957db42dea4783bff240c4ed1ed6d1",
              "IPY_MODEL_c07f1ef2d4424e3abf96a9df7143787e"
            ],
            "layout": "IPY_MODEL_f8dd17a83ba04231ae04a2eeaedae2a1"
          }
        },
        "4d8254171fd24c5b84bb6f846d71c5b8": {
          "model_module": "@jupyter-widgets/controls",
          "model_name": "HBoxModel",
          "model_module_version": "1.5.0",
          "state": {
            "_dom_classes": [],
            "_model_module": "@jupyter-widgets/controls",
            "_model_module_version": "1.5.0",
            "_model_name": "HBoxModel",
            "_view_count": null,
            "_view_module": "@jupyter-widgets/controls",
            "_view_module_version": "1.5.0",
            "_view_name": "HBoxView",
            "box_style": "",
            "children": [
              "IPY_MODEL_6bbbd9cfeb7d42be9c40ac8206b76d37",
              "IPY_MODEL_2fba6350809046a0b9b645b87a008b93",
              "IPY_MODEL_01550727f42640dfbcf83eb4a4c2cc78"
            ],
            "layout": "IPY_MODEL_e822ffa4be9b43d3a6f5d6719bc343ea"
          }
        },
        "6bbbd9cfeb7d42be9c40ac8206b76d37": {
          "model_module": "@jupyter-widgets/controls",
          "model_name": "HTMLModel",
          "model_module_version": "1.5.0",
          "state": {
            "_dom_classes": [],
            "_model_module": "@jupyter-widgets/controls",
            "_model_module_version": "1.5.0",
            "_model_name": "HTMLModel",
            "_view_count": null,
            "_view_module": "@jupyter-widgets/controls",
            "_view_module_version": "1.5.0",
            "_view_name": "HTMLView",
            "description": "",
            "description_tooltip": null,
            "layout": "IPY_MODEL_96a3b51f75e4410babe4810a04879497",
            "placeholder": "​",
            "style": "IPY_MODEL_ce8db14128e54b70abed3637b23149e5",
            "value": "100%"
          }
        },
        "2fba6350809046a0b9b645b87a008b93": {
          "model_module": "@jupyter-widgets/controls",
          "model_name": "FloatProgressModel",
          "model_module_version": "1.5.0",
          "state": {
            "_dom_classes": [],
            "_model_module": "@jupyter-widgets/controls",
            "_model_module_version": "1.5.0",
            "_model_name": "FloatProgressModel",
            "_view_count": null,
            "_view_module": "@jupyter-widgets/controls",
            "_view_module_version": "1.5.0",
            "_view_name": "ProgressView",
            "bar_style": "success",
            "description": "",
            "description_tooltip": null,
            "layout": "IPY_MODEL_f6d3a7586b3a413eb7224e2799710ea3",
            "max": 328,
            "min": 0,
            "orientation": "horizontal",
            "style": "IPY_MODEL_906ad870d8844e1ca8ab2ff751c1ca97",
            "value": 328
          }
        },
        "01550727f42640dfbcf83eb4a4c2cc78": {
          "model_module": "@jupyter-widgets/controls",
          "model_name": "HTMLModel",
          "model_module_version": "1.5.0",
          "state": {
            "_dom_classes": [],
            "_model_module": "@jupyter-widgets/controls",
            "_model_module_version": "1.5.0",
            "_model_name": "HTMLModel",
            "_view_count": null,
            "_view_module": "@jupyter-widgets/controls",
            "_view_module_version": "1.5.0",
            "_view_name": "HTMLView",
            "description": "",
            "description_tooltip": null,
            "layout": "IPY_MODEL_d34649fc189f4e89b11263a5783400d5",
            "placeholder": "​",
            "style": "IPY_MODEL_68f9abaeac944cad98dc23dbed34e141",
            "value": " 328/328 [08:46&lt;00:00,  1.57s/it]"
          }
        },
        "e822ffa4be9b43d3a6f5d6719bc343ea": {
          "model_module": "@jupyter-widgets/base",
          "model_name": "LayoutModel",
          "model_module_version": "1.2.0",
          "state": {
            "_model_module": "@jupyter-widgets/base",
            "_model_module_version": "1.2.0",
            "_model_name": "LayoutModel",
            "_view_count": null,
            "_view_module": "@jupyter-widgets/base",
            "_view_module_version": "1.2.0",
            "_view_name": "LayoutView",
            "align_content": null,
            "align_items": null,
            "align_self": null,
            "border": null,
            "bottom": null,
            "display": null,
            "flex": null,
            "flex_flow": null,
            "grid_area": null,
            "grid_auto_columns": null,
            "grid_auto_flow": null,
            "grid_auto_rows": null,
            "grid_column": null,
            "grid_gap": null,
            "grid_row": null,
            "grid_template_areas": null,
            "grid_template_columns": null,
            "grid_template_rows": null,
            "height": null,
            "justify_content": null,
            "justify_items": null,
            "left": null,
            "margin": null,
            "max_height": null,
            "max_width": null,
            "min_height": null,
            "min_width": null,
            "object_fit": null,
            "object_position": null,
            "order": null,
            "overflow": null,
            "overflow_x": null,
            "overflow_y": null,
            "padding": null,
            "right": null,
            "top": null,
            "visibility": null,
            "width": null
          }
        },
        "96a3b51f75e4410babe4810a04879497": {
          "model_module": "@jupyter-widgets/base",
          "model_name": "LayoutModel",
          "model_module_version": "1.2.0",
          "state": {
            "_model_module": "@jupyter-widgets/base",
            "_model_module_version": "1.2.0",
            "_model_name": "LayoutModel",
            "_view_count": null,
            "_view_module": "@jupyter-widgets/base",
            "_view_module_version": "1.2.0",
            "_view_name": "LayoutView",
            "align_content": null,
            "align_items": null,
            "align_self": null,
            "border": null,
            "bottom": null,
            "display": null,
            "flex": null,
            "flex_flow": null,
            "grid_area": null,
            "grid_auto_columns": null,
            "grid_auto_flow": null,
            "grid_auto_rows": null,
            "grid_column": null,
            "grid_gap": null,
            "grid_row": null,
            "grid_template_areas": null,
            "grid_template_columns": null,
            "grid_template_rows": null,
            "height": null,
            "justify_content": null,
            "justify_items": null,
            "left": null,
            "margin": null,
            "max_height": null,
            "max_width": null,
            "min_height": null,
            "min_width": null,
            "object_fit": null,
            "object_position": null,
            "order": null,
            "overflow": null,
            "overflow_x": null,
            "overflow_y": null,
            "padding": null,
            "right": null,
            "top": null,
            "visibility": null,
            "width": null
          }
        },
        "ce8db14128e54b70abed3637b23149e5": {
          "model_module": "@jupyter-widgets/controls",
          "model_name": "DescriptionStyleModel",
          "model_module_version": "1.5.0",
          "state": {
            "_model_module": "@jupyter-widgets/controls",
            "_model_module_version": "1.5.0",
            "_model_name": "DescriptionStyleModel",
            "_view_count": null,
            "_view_module": "@jupyter-widgets/base",
            "_view_module_version": "1.2.0",
            "_view_name": "StyleView",
            "description_width": ""
          }
        },
        "f6d3a7586b3a413eb7224e2799710ea3": {
          "model_module": "@jupyter-widgets/base",
          "model_name": "LayoutModel",
          "model_module_version": "1.2.0",
          "state": {
            "_model_module": "@jupyter-widgets/base",
            "_model_module_version": "1.2.0",
            "_model_name": "LayoutModel",
            "_view_count": null,
            "_view_module": "@jupyter-widgets/base",
            "_view_module_version": "1.2.0",
            "_view_name": "LayoutView",
            "align_content": null,
            "align_items": null,
            "align_self": null,
            "border": null,
            "bottom": null,
            "display": null,
            "flex": null,
            "flex_flow": null,
            "grid_area": null,
            "grid_auto_columns": null,
            "grid_auto_flow": null,
            "grid_auto_rows": null,
            "grid_column": null,
            "grid_gap": null,
            "grid_row": null,
            "grid_template_areas": null,
            "grid_template_columns": null,
            "grid_template_rows": null,
            "height": null,
            "justify_content": null,
            "justify_items": null,
            "left": null,
            "margin": null,
            "max_height": null,
            "max_width": null,
            "min_height": null,
            "min_width": null,
            "object_fit": null,
            "object_position": null,
            "order": null,
            "overflow": null,
            "overflow_x": null,
            "overflow_y": null,
            "padding": null,
            "right": null,
            "top": null,
            "visibility": null,
            "width": null
          }
        },
        "906ad870d8844e1ca8ab2ff751c1ca97": {
          "model_module": "@jupyter-widgets/controls",
          "model_name": "ProgressStyleModel",
          "model_module_version": "1.5.0",
          "state": {
            "_model_module": "@jupyter-widgets/controls",
            "_model_module_version": "1.5.0",
            "_model_name": "ProgressStyleModel",
            "_view_count": null,
            "_view_module": "@jupyter-widgets/base",
            "_view_module_version": "1.2.0",
            "_view_name": "StyleView",
            "bar_color": null,
            "description_width": ""
          }
        },
        "d34649fc189f4e89b11263a5783400d5": {
          "model_module": "@jupyter-widgets/base",
          "model_name": "LayoutModel",
          "model_module_version": "1.2.0",
          "state": {
            "_model_module": "@jupyter-widgets/base",
            "_model_module_version": "1.2.0",
            "_model_name": "LayoutModel",
            "_view_count": null,
            "_view_module": "@jupyter-widgets/base",
            "_view_module_version": "1.2.0",
            "_view_name": "LayoutView",
            "align_content": null,
            "align_items": null,
            "align_self": null,
            "border": null,
            "bottom": null,
            "display": null,
            "flex": null,
            "flex_flow": null,
            "grid_area": null,
            "grid_auto_columns": null,
            "grid_auto_flow": null,
            "grid_auto_rows": null,
            "grid_column": null,
            "grid_gap": null,
            "grid_row": null,
            "grid_template_areas": null,
            "grid_template_columns": null,
            "grid_template_rows": null,
            "height": null,
            "justify_content": null,
            "justify_items": null,
            "left": null,
            "margin": null,
            "max_height": null,
            "max_width": null,
            "min_height": null,
            "min_width": null,
            "object_fit": null,
            "object_position": null,
            "order": null,
            "overflow": null,
            "overflow_x": null,
            "overflow_y": null,
            "padding": null,
            "right": null,
            "top": null,
            "visibility": null,
            "width": null
          }
        },
        "68f9abaeac944cad98dc23dbed34e141": {
          "model_module": "@jupyter-widgets/controls",
          "model_name": "DescriptionStyleModel",
          "model_module_version": "1.5.0",
          "state": {
            "_model_module": "@jupyter-widgets/controls",
            "_model_module_version": "1.5.0",
            "_model_name": "DescriptionStyleModel",
            "_view_count": null,
            "_view_module": "@jupyter-widgets/base",
            "_view_module_version": "1.2.0",
            "_view_name": "StyleView",
            "description_width": ""
          }
        }
      }
    }
  },
  "cells": [
    {
      "cell_type": "markdown",
      "source": [
        "#Introduction\n",
        "\n",
        "This notebook showcases an AI application trained on human conversations and interactions to generate automated responses to queries presented to it. The solution utilises a custom pre-trained encoder-decoder sequential model with an attention layer to generate multiple candidate responses that are presented as output. The pre-trained model utilised was trained on multiple custom open source datasets and the model checkpoint is used in this case to perform inference on the test data. For more details on Tensorflow checkpoints, please refer to https://www.tensorflow.org/guide/checkpoint <br><br>\n",
        "The links for the datasets used to train the model along with some additonal datasets that can also be utilised are listed below:\n",
        "* Amazon Q&A datasets - https://jmcauley.ucsd.edu/data/amazon/qa/\n",
        "* Movie dialogs dataset - https://www.cs.cornell.edu/~cristian/Cornell_Movie-Dialogs_Corpus.html\n",
        "* Topical chatbot dataset - https://www.kaggle.com/datasets/arnavsharmaas/chatbot-dataset-topical-chat <br>\n",
        "\n",
        "The following image summarises the solution design: <br>\n",
        "\n",
        ">![ARS.png](data:image/png;base64,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)\n"
      ],
      "metadata": {
        "id": "bt8jN5ygQ9WR"
      }
    },
    {
      "cell_type": "markdown",
      "source": [
        "# Environment Setup and Data Import\n",
        "This notebook was run on Google Colab which has most of the required dependencies already installed. In case any of the libraries are not available on the system, they can be installed using pip install."
      ],
      "metadata": {
        "id": "dACPBECZOogs"
      }
    },
    {
      "cell_type": "code",
      "execution_count": 1,
      "metadata": {
        "id": "fS7Tx1_mlVtn"
      },
      "outputs": [],
      "source": [
        "import pandas as pd, shutil, gzip, os, glob, datetime, numpy as np, re, pickle\n",
        "import tensorflow as tf, matplotlib.pyplot as plt, heapq, math, string\n",
        "from google.colab import drive as g_drive, output, files as g_files\n",
        "from itertools import chain\n",
        "from tqdm.notebook import tqdm_notebook\n",
        "from google.colab import output\n",
        "from sklearn.model_selection import train_test_split\n",
        "from tensorflow.keras.preprocessing.sequence import pad_sequences\n",
        "from tensorflow.keras.preprocessing.text import Tokenizer\n",
        "\n",
        "output.enable_custom_widget_manager()\n",
        "tf.random.set_seed(666)"
      ]
    },
    {
      "cell_type": "markdown",
      "source": [
        "For the purpose of this demo, a zipped file with the above mentioned datasets is provided and only 3 datastes among them are being used for training. The \"Train_Data\" here is shared publicly on the following link and needs to be uploaded on Google Drive to be accessed from within this notebook.\n",
        ">https://drive.google.com/file/d/1AuCXXHF_8x0sODRQ_dfUrsSolKEWP7Oh/view?usp=sharing "
      ],
      "metadata": {
        "id": "Xl6a59v7OezX"
      }
    },
    {
      "cell_type": "code",
      "source": [
        "g_drive.mount(\"/content/drive\")\n",
        "!cp /content/drive/MyDrive/Train_Data.zip Train_Data.zip  \n",
        "!unzip Train_Data.zip\n",
        "!rm Train_Data.zip\n",
        "shutil.rmtree(\"/content/sample_data\")"
      ],
      "metadata": {
        "id": "J5dQILwsleEw",
        "colab": {
          "base_uri": "https://localhost:8080/"
        },
        "outputId": "dc72b81d-078e-4a64-a82e-70c4b164ae2e"
      },
      "execution_count": 2,
      "outputs": [
        {
          "output_type": "stream",
          "name": "stdout",
          "text": [
            "Mounted at /content/drive\n",
            "Archive:  Train_Data.zip\n",
            "  inflating: Movie Dialogs/movie_characters_metadata.tsv  \n",
            "  inflating: Movie Dialogs/movie_conversations.tsv  \n",
            "  inflating: Movie Dialogs/movie_lines.tsv  \n",
            "  inflating: Movie Dialogs/movie_titles_metadata.tsv  \n",
            "  inflating: Movie Dialogs/raw_script_urls.tsv  \n",
            "  inflating: Movie Dialogs/README.txt  \n",
            "  inflating: QA_Cell_Phones_and_Accessories.json.gz  \n",
            "  inflating: QA_Clothing_Shoes_and_Jewelry.json.gz  \n",
            "  inflating: QA_Health_and_Personal_Care.json.gz  \n",
            "  inflating: Topical Chat Bot/topical_chat.csv  \n"
          ]
        }
      ]
    },
    {
      "cell_type": "markdown",
      "source": [
        "# Data Preparation"
      ],
      "metadata": {
        "id": "qsJRUP5wZIOX"
      }
    },
    {
      "cell_type": "markdown",
      "source": [
        "The Amazon Q&A datasets being used are provided as JSON files which need to be parsed and presented in a more readable tabular format for ease of use. The following defined functions help in transforming the raw datasets."
      ],
      "metadata": {
        "id": "If7Qs9N9P8Ts"
      }
    },
    {
      "cell_type": "code",
      "source": [
        "def parse(path):\n",
        "  file = gzip.open(path,\"r\")\n",
        "  for line in file:\n",
        "    yield (eval(line))\n",
        "\n",
        "def create_df(path):\n",
        "  ls_fin_asin = list()\n",
        "  ls_fin_qsn = list()\n",
        "  ls_fin_ans = list()\n",
        "\n",
        "  for row in parse(path):\n",
        "    asin = row[\"asin\"]\n",
        "    ls_qsn = list()\n",
        "    ls_ans = list()\n",
        "    ls_asin = list()\n",
        "    for qid in range(len(row[\"questions\"])):\n",
        "      ls_qans = list()\n",
        "      qtxt = row[\"questions\"][qid][\"questionText\"]\n",
        "      for aid in range(len(row[\"questions\"][qid][\"answers\"])):\n",
        "        ls_atxt = row[\"questions\"][qid][\"answers\"][aid][\"answerText\"]\n",
        "        ls_qans.append(ls_atxt)\n",
        "      ls_qtxt = np.repeat(qtxt,len(ls_qans))\n",
        "      ls_asin_sub = np.repeat(asin,len(ls_qans))\n",
        "      ls_qsn.append(ls_qtxt)\n",
        "      ls_ans.append(ls_qans)\n",
        "      ls_asin.append(ls_asin_sub)\n",
        "    ls_fin_qsn.append(list(chain.from_iterable(ls_qsn)))\n",
        "    ls_fin_ans.append(list(chain.from_iterable(ls_ans)))\n",
        "    ls_fin_asin.append(list(chain.from_iterable(ls_asin)))\n",
        "\n",
        "  df_out = pd.DataFrame({\"ID\": list(chain.from_iterable(ls_fin_asin)),\"Question\": list(chain.from_iterable(ls_fin_qsn)),\n",
        "                         \"Answer\": list(chain.from_iterable(ls_fin_ans))}).drop_duplicates().reset_index(drop = True)\n",
        "                           \n",
        "  return(df_out)\n",
        "\n",
        "ls_inp = glob.glob(\"/content/*.json.gz\")\n",
        "df_inp = pd.concat(list(map(create_df,ls_inp))).reset_index(drop = True)\n",
        "\n",
        "!rm QA_Clothing_Shoes_and_Jewelry.json.gz QA_Cell_Phones_and_Accessories.json.gz QA_Health_and_Personal_Care.json.gz"
      ],
      "metadata": {
        "id": "vQoVkjXPlh5I"
      },
      "execution_count": 3,
      "outputs": []
    },
    {
      "cell_type": "markdown",
      "source": [
        "### Data Pre-processing\n",
        "The following defined functions perform some regularly used pre-processing steps on the textual data such as:\n",
        "* Word decontractions\n",
        "* Removal of whitespaces\n",
        "* Removal of special characters\n",
        "* Extraction of the domain name from hyperlinks without the trailing (\"https://\") and leading (\".com\") parts <br>\n",
        "\n",
        "In this case, we are only retaining questions which are at most 50 words long and brief responses which are at most 6 words long considering the computational limitations for ease of training."
      ],
      "metadata": {
        "id": "daw-ySRrQgxg"
      }
    },
    {
      "cell_type": "code",
      "source": [
        "def txt_proc(txt):\n",
        "  txt = re.sub(\"\\s+\",\" \",txt)\n",
        "  txt = re.sub(r\"won\\'t\",\"will not\",re.sub(r\"can\\'t\",\"can not\",re.sub(\n",
        "      r\"n\\'t\",\" not\",re.sub(r\"\\'re\",\" are\",re.sub(r\"\\'s\",\" is\",re.sub(r\"\\'d\",\" would\",\\\n",
        "      re.sub(r\"\\'ll\",\" will\",re.sub(r\"\\n't\",\" not\",re.sub(r\"\\'ve\",\" have\",re.sub(r\"\\'m\",\" am\",txt))))))))))\n",
        "  txt = re.sub(r\"((www\\.[^\\s]+)|(https?://[^\\s]+)|(\\.com+))\",\"\",txt)\n",
        "  txt = txt.replace(\"\\\\r\",\" \").replace('\\\\\"',\" \").replace(\"\\\\n\",\" \").replace(\"\\\\t\",\" \")\n",
        "  txt = txt.replace(\".\",\" .\").replace(\",\",\" ,\").replace(\"?\",\" ?\").replace(\"!\",\" !\")\n",
        "  txt = re.sub(r\"\\.+\",\". \",re.sub(r\"\\?+\",\"? \",re.sub(r\"\\!+\",\"! \",txt)))\n",
        "  txt = re.sub(\"[^A-Za-z0-9?.!]+\",\" \",txt)\n",
        "\n",
        "  return(\" \".join(txt.lower().split()))\n",
        "\n",
        "def df_proc(df_in,max_qlen,max_alen):\n",
        "  df_in[\"Proc_Question\"] = df_in[\"Question\"].progress_apply(txt_proc)\n",
        "  df_in[\"Proc_Answer\"] = df_in[\"Answer\"].progress_apply(txt_proc)\n",
        "  df_in[\"Q_Length\"] = df_in[\"Proc_Question\"].str.split().apply(len)\n",
        "  df_in[\"A_Length\"] = df_in[\"Proc_Answer\"].str.split().apply(len)\n",
        "  df_out = df_in.loc[list((df_in[\"Q_Length\"] <= max_qlen) & (df_in[\"A_Length\"] <= max_alen) & \\\n",
        "                          (df_in[\"Q_Length\"] > 1) & (df_in[\"A_Length\"] > 1)),[\"Proc_Question\",\"Proc_Answer\"]] \\\n",
        "                          .apply(lambda x: \"<bos> \" + x.astype(str) + \" <eos>\").reset_index(drop = True)\n",
        "\n",
        "  return(df_out)\n",
        "\n",
        "output.enable_custom_widget_manager()\n",
        "tqdm_notebook.pandas()\n",
        "df_sel = df_proc(df_inp,50,6)"
      ],
      "metadata": {
        "colab": {
          "base_uri": "https://localhost:8080/",
          "height": 81,
          "referenced_widgets": [
            "75910ee0bab74f47a9a4a11c88f584b5",
            "312248dd521642678547ab8af879f163",
            "9e68f8bfbaf147c2a87b5614cbf85735",
            "2cd84f2aeeeb4820905cf4278378eee6",
            "75e46ea96ae949b5b7d05a9965477918",
            "6d9537e3e863412b91f3c3ce4a2a2f2a",
            "6910646472874795aeafb7fcef988065",
            "a9271855a2db40cd824e917f428ae17b",
            "8dcbd4aea1b64d76b40c45849cbe17c4",
            "4a35e33435db477e8095c85aa26ed6a5",
            "7548ede01bd6417089739fc67967e8cf",
            "aaee1d8d43df491ea0cd6df0d2fa1fd4",
            "6c8b917e14b54f1a967bb166730a09f8",
            "76d6af96f03842ab890b492039cd7e06",
            "3db3b163ceaa491fafe6a39b16878561",
            "e0f3cf8fefeb4c17a71ba4585e6af199",
            "30789f1d92fe4af98528c06e26c595d1",
            "f2c58fc65ea643fba5b7c04816e452a4",
            "61957db42dea4783bff240c4ed1ed6d1",
            "c07f1ef2d4424e3abf96a9df7143787e",
            "f8dd17a83ba04231ae04a2eeaedae2a1",
            "5385d27a300f4a41ac8a78bf96c19cf1"
          ]
        },
        "id": "-6iXpq3JKdnw",
        "outputId": "2b05da9e-00ae-4b00-e5fc-9171b61b4c17"
      },
      "execution_count": 4,
      "outputs": [
        {
          "output_type": "display_data",
          "data": {
            "text/plain": [
              "  0%|          | 0/545146 [00:00<?, ?it/s]"
            ],
            "application/vnd.jupyter.widget-view+json": {
              "version_major": 2,
              "version_minor": 0,
              "model_id": "75910ee0bab74f47a9a4a11c88f584b5"
            }
          },
          "metadata": {
            "application/vnd.jupyter.widget-view+json": {
              "colab": {
                "custom_widget_manager": {
                  "url": "https://ssl.gstatic.com/colaboratory-static/widgets/colab-cdn-widget-manager/d2e234f7cc04bf79/manager.min.js"
                }
              }
            }
          }
        },
        {
          "output_type": "display_data",
          "data": {
            "text/plain": [
              "  0%|          | 0/545146 [00:00<?, ?it/s]"
            ],
            "application/vnd.jupyter.widget-view+json": {
              "version_major": 2,
              "version_minor": 0,
              "model_id": "5385d27a300f4a41ac8a78bf96c19cf1"
            }
          },
          "metadata": {
            "application/vnd.jupyter.widget-view+json": {
              "colab": {
                "custom_widget_manager": {
                  "url": "https://ssl.gstatic.com/colaboratory-static/widgets/colab-cdn-widget-manager/d2e234f7cc04bf79/manager.min.js"
                }
              }
            }
          }
        }
      ]
    },
    {
      "cell_type": "markdown",
      "source": [
        "The prepared data is then split into training (~ 80 %), validation (~ 20 %) and test (~ 0.5 %) sets. The test set is kept minimal to showcase the results on just a few cases."
      ],
      "metadata": {
        "id": "8ZnPIN9FRt1T"
      }
    },
    {
      "cell_type": "code",
      "source": [
        "enc_in_trn, enc_in_tst, dec_in_trn, dec_in_tst = train_test_split(df_sel['Proc_Question'], \\\n",
        "                                                 df_sel['Proc_Answer'],test_size = 0.005,random_state = 666)\n",
        "enc_in_trn, enc_in_val, dec_in_trn, dec_in_val = train_test_split(enc_in_trn,dec_in_trn,test_size=0.2,random_state = 666)"
      ],
      "metadata": {
        "id": "DPMcs38DKjTt"
      },
      "execution_count": 5,
      "outputs": []
    },
    {
      "cell_type": "markdown",
      "source": [
        "### Tokenization and Embedding"
      ],
      "metadata": {
        "id": "OH3Fg6j9ZPkw"
      }
    },
    {
      "cell_type": "markdown",
      "source": [
        "The data is the converted into word embeddings using a custom tokenizer which is fit on the entire corpus. For this demo, the fit tokenizer object is already provided on GitHub for ease of use. This needs to be uploaded on Google Drive and can then be accessed from within the notebook. <br>\n",
        ">For more details on the tokenizer, you can refer to the document on https://www.tensorflow.org/api_docs/python/tf/keras/preprocessing/text/Tokenizer <br>\n",
        "\n",
        "Post-padding is used to maintain a uniform length of the sequences to be trained and interpreted by the sequential model. <br>\n",
        "Word -> ID and ID -> Word mapping dictionaries are then creatd for later use dring inference. This will enable us to transform the model outputs (sequences of numbers) back to readable text."
      ],
      "metadata": {
        "id": "5hWN9n3CSXu1"
      }
    },
    {
      "cell_type": "code",
      "source": [
        "!cp /content/drive/MyDrive/qa_tok qa_tok.pickle\n",
        "with open(\"qa_tok.pickle\",\"rb\") as handle:\n",
        "    qa_tok = pickle.load(handle)\n",
        "\n",
        "enc_maxlen = max(enc_in_trn.str.split().apply(len).max(),enc_in_val.str.split().apply(len).max(),\n",
        "                 enc_in_tst.str.split().apply(len).max())\n",
        "dec_maxlen = max(dec_in_trn.str.split().apply(len).max(),dec_in_val.str.split().apply(len).max(),\n",
        "                 dec_in_tst.str.split().apply(len).max())\n",
        "\n",
        "enc_tok_trn, enc_tok_val, enc_tok_tst = list(map(lambda x: pad_sequences(qa_tok.texts_to_sequences(x), \\\n",
        "                                             maxlen = enc_maxlen,padding = \"post\"),[enc_in_trn,enc_in_val,enc_in_tst]))\n",
        "dec_tok_trn, dec_tok_val, dec_tok_tst = list(map(lambda x: pad_sequences(qa_tok.texts_to_sequences(x), \\\n",
        "                                             maxlen = dec_maxlen,padding = \"post\"),[dec_in_trn,dec_in_val,dec_in_tst]))\n",
        "\n",
        "wrd_id = dict()\n",
        "id_wrd = dict()\n",
        "for k, v in qa_tok.word_index.items():\n",
        "  wrd_id[k] = v\n",
        "  id_wrd[v] = k"
      ],
      "metadata": {
        "id": "ndULZ8slLsX_"
      },
      "execution_count": 6,
      "outputs": []
    },
    {
      "cell_type": "markdown",
      "source": [
        "# Model Setup"
      ],
      "metadata": {
        "id": "4rwcQlhDZXjZ"
      }
    },
    {
      "cell_type": "markdown",
      "source": [
        "The model training parameters are declared and the model architecture used for training is replicated (Encoder + Attention layer + Decoder). In this demo, we will not be training the entire model but will instead utilise an already trained model to showcase the solution. To explore the training process further, you can refer to the following links which implement similar models:\n",
        "* https://pratik-sen-bmu.medium.com/automated-response-for-email-using-deep-learning-8ef194895b7d\n",
        "* https://medium.com/analytics-vidhya/smart-reply-automated-response-generation-for-question-5111f2173de\n",
        "* https://smittal3797.medium.com/smart-reply-automated-response-suggestion-for-e-mail-c07bcf73cde0"
      ],
      "metadata": {
        "id": "QyFyCa3ZTmot"
      }
    },
    {
      "cell_type": "code",
      "source": [
        "VOCAB_SIZE = len(qa_tok.word_index) + 1\n",
        "EMB_DIM = 300\n",
        "LSTM_UNITS = 256\n",
        "BATCH_SIZE = 128"
      ],
      "metadata": {
        "id": "4lS8asBpL7A0"
      },
      "execution_count": 7,
      "outputs": []
    },
    {
      "cell_type": "code",
      "source": [
        "class Encoder(tf.keras.Model):\n",
        "\tdef __init__(self,inp_vocab_size,embedding_size,lstm_size,batch_sz,input_length):\n",
        "\t\tsuper(Encoder,self).__init__()\n",
        "\t\tself.batch_sz = batch_sz\n",
        "\t\tself.input_length = input_length\n",
        "\t\tself.lstm_size = lstm_size\n",
        "\t\tself.embedding = tf.keras.layers.Embedding(input_dim = inp_vocab_size,output_dim = embedding_size,\n",
        "                                             input_length = input_length,name = \"Encoder_Embedding\")\n",
        "\t\tself.lstm = tf.keras.layers.LSTM(self.lstm_size,return_state = True,return_sequences = True,name = \"Encoder\")\n",
        "\tdef call(self,input_sequence,state_h,state_c):\n",
        "\t\tx = self.embedding(input_sequence)\n",
        "\t\tx = tf.keras.layers.Masking(mask_value = 0)(x)\n",
        "\t\toutput, lstm_state_h, lstm_state_c = self.lstm(x,initial_state = [state_h,state_c])\n",
        "\t\treturn output, lstm_state_h, lstm_state_c\n",
        "\tdef initialize_hidden_state(self):\n",
        "\t\treturn tf.zeros((self.batch_sz,self.lstm_size)),tf.zeros((self.batch_sz,self.lstm_size))\n",
        "\n",
        "enc_1 = Encoder(VOCAB_SIZE,EMB_DIM,LSTM_UNITS,BATCH_SIZE,enc_maxlen)"
      ],
      "metadata": {
        "id": "xLF3xUDwL94I"
      },
      "execution_count": 8,
      "outputs": []
    },
    {
      "cell_type": "code",
      "source": [
        "class Attention(tf.keras.layers.Layer):\n",
        "  def __init__(self,scoring_function,att_units):\n",
        "    super(Attention,self).__init__()\n",
        "    self.scoring_function = scoring_function\n",
        "    self.W1 = tf.keras.layers.Dense(att_units)\n",
        "    self.W2 = tf.keras.layers.Dense(att_units)\n",
        "    self.V = tf.keras.layers.Dense(1)\n",
        "\n",
        "  def call(self,decoder_hidden_state,encoder_output):\n",
        "    decoder_hidden_state_time = tf.expand_dims(decoder_hidden_state,1)\n",
        "    score = self.V(tf.nn.tanh(self.W1(decoder_hidden_state_time) + self.W2(encoder_output)))\n",
        "    attention_weights = tf.nn.softmax(score,axis=1)\n",
        "    context_vector = attention_weights * encoder_output\n",
        "    context_vector = tf.reduce_sum(context_vector,axis=1)\n",
        "    return context_vector, attention_weights"
      ],
      "metadata": {
        "id": "4Xt1rP3wL_KL"
      },
      "execution_count": 9,
      "outputs": []
    },
    {
      "cell_type": "code",
      "source": [
        "class Decoder(tf.keras.Model):\n",
        "  def __init__(self,tar_vocab_size,embedding_dim,input_length,dec_units,score_fun,att_units,batch_sz):\n",
        "    super(Decoder,self).__init__()\n",
        "    self.tar_vocab_size = tar_vocab_size\n",
        "    self.embedding_dim = embedding_dim\n",
        "    self.input_length = input_length\n",
        "    self.batch_sz = batch_sz\n",
        "    self.dec_units = dec_units\n",
        "    self.score_fun = score_fun\n",
        "    self.att_units = att_units\n",
        "    self.embedding = tf.keras.layers.Embedding(self.tar_vocab_size,self.embedding_dim,input_length = self.input_length,\n",
        "                                               name = \"Decoder_Embedding\")\n",
        "    self.lstm = tf.keras.layers.LSTM(self.dec_units,return_state = True, return_sequences = True, name = \"Decoder_LSTM\")\n",
        "    self.attention = Attention(self.score_fun,self.att_units)\n",
        "    self.fc = tf.keras.layers.Dense(self.tar_vocab_size)\n",
        "\n",
        "  def call(self,input_to_decoder,enc_output,state_h,state_c):\n",
        "    x = self.embedding(input_to_decoder)\n",
        "    x = tf.keras.layers.Masking(mask_value = 0)(x)\n",
        "    context_vector, attention_weights = self.attention(state_h,enc_output)\n",
        "    x = tf.concat([tf.expand_dims(context_vector,1),x],axis = -1)       \n",
        "    output, lstm_state_h, lstm_state_c = self.lstm(x,initial_state = [state_h,state_c])\n",
        "    output = tf.reshape(output,(-1,output.shape[2]))\n",
        "    x = self.fc(output)\n",
        "\n",
        "    return x, lstm_state_h, lstm_state_c, attention_weights, context_vector\n",
        "  \n",
        "  def initialize_hidden_state(self):\n",
        "    return tf.zeros((self.batch_sz,self.dec_units)),tf.zeros((self.batch_sz,self.dec_units))\n",
        "\t\t\t\n",
        "dec_1 = Decoder(VOCAB_SIZE,EMB_DIM,dec_maxlen,LSTM_UNITS,\"concat\",LSTM_UNITS,BATCH_SIZE)"
      ],
      "metadata": {
        "id": "3xwLW56_MC0j"
      },
      "execution_count": 10,
      "outputs": []
    },
    {
      "cell_type": "markdown",
      "source": [
        "We will be using the Adam optimizer and Sparse Categorical Crossentropy to evaluate the model. The loss function to be used is defined below."
      ],
      "metadata": {
        "id": "G2uLR4KtVseZ"
      }
    },
    {
      "cell_type": "code",
      "source": [
        "optimizer = tf.keras.optimizers.Adam()\n",
        "loss_object = tf.keras.losses.SparseCategoricalCrossentropy(from_logits = True, \\\n",
        "                              reduction = tf.keras.losses.Reduction.NONE)\n",
        "\n",
        "def loss_function(real,pred):\n",
        "  mask = tf.math.logical_not(tf.math.equal(real,0))\n",
        "  loss_ = loss_object(real,pred)\n",
        "  mask = tf.cast(mask,dtype = loss_.dtype)\n",
        "  loss_ *= mask\n",
        "  return tf.reduce_mean(loss_)"
      ],
      "metadata": {
        "id": "Y_DwAspDMINF"
      },
      "execution_count": 11,
      "outputs": []
    },
    {
      "cell_type": "markdown",
      "source": [
        "The following code chunk creates a directory to be used for loading the trained model checkpoints which we will be using for inference. The model checkpoints are shared on https://drive.google.com/file/d/1BOBiMYyj7KL7ZG5BNRKvdNbToPgQwaL5/view?usp=sharing"
      ],
      "metadata": {
        "id": "A4Ryy3P0V5Ih"
      }
    },
    {
      "cell_type": "code",
      "source": [
        "checkpoint_dir = \"/content/baseline_checkpoints\"\n",
        "checkpoint = tf.train.Checkpoint(optimizer = optimizer,encoder = enc_1,decoder = dec_1)"
      ],
      "metadata": {
        "id": "8cL1D7pbMK-6"
      },
      "execution_count": 12,
      "outputs": []
    },
    {
      "cell_type": "markdown",
      "source": [
        "# Inference"
      ],
      "metadata": {
        "id": "M9XCW9BkZcXw"
      }
    },
    {
      "cell_type": "markdown",
      "source": [
        "The model checkpoints need to be uploaded on Google Drive to be accessed and restored for inferencing."
      ],
      "metadata": {
        "id": "lVtsc8hYWQC0"
      }
    },
    {
      "cell_type": "code",
      "source": [
        "!cp /content/drive/MyDrive/baseline_checkpoints.tar.gz ./loaded_check.tar.gz\n",
        "g_drive.flush_and_unmount()\n",
        "!tar xvzf ./loaded_check.tar.gz \n",
        "!rm loaded_check.tar.gz\n",
        "checkpoint.restore(tf.train.latest_checkpoint(checkpoint_dir))"
      ],
      "metadata": {
        "id": "fqdAiLSEMgng",
        "colab": {
          "base_uri": "https://localhost:8080/"
        },
        "outputId": "082d8963-b02c-4f11-b89d-a0b7b777a2eb"
      },
      "execution_count": 13,
      "outputs": [
        {
          "output_type": "stream",
          "name": "stdout",
          "text": [
            "./baseline_checkpoints/\n",
            "./baseline_checkpoints/ckpt-5.index\n",
            "./baseline_checkpoints/ckpt-3.index\n",
            "./baseline_checkpoints/ckpt-3.data-00000-of-00001\n",
            "./baseline_checkpoints/ckpt-4.index\n",
            "./baseline_checkpoints/ckpt-1.data-00000-of-00001\n",
            "./baseline_checkpoints/checkpoint\n",
            "./baseline_checkpoints/ckpt-2.index\n",
            "./baseline_checkpoints/ckpt-4.data-00000-of-00001\n",
            "./baseline_checkpoints/ckpt-5.data-00000-of-00001\n",
            "./baseline_checkpoints/ckpt-1.index\n",
            "./baseline_checkpoints/ckpt-2.data-00000-of-00001\n",
            "./baseline_encoder_weights.h5\n",
            "./baseline_decoder_weights.h5\n"
          ]
        },
        {
          "output_type": "execute_result",
          "data": {
            "text/plain": [
              "<tensorflow.python.training.tracking.util.CheckpointLoadStatus at 0x7f0f7013c910>"
            ]
          },
          "metadata": {},
          "execution_count": 13
        }
      ]
    },
    {
      "cell_type": "markdown",
      "source": [
        "Inferencing is performed using Beam Search which evaluates a specified number of candidate solutions to present the optimum predictions. For more details on Beam Search Inference, you can refer to https://towardsdatascience.com/foundations-of-nlp-explained-visually-beam-search-how-it-works-1586b9849a24"
      ],
      "metadata": {
        "id": "tAWVY29XWmHS"
      }
    },
    {
      "cell_type": "code",
      "source": [
        "def eval_beam(inputs,dic_id2wrd,dic_wrd2id,units,d_max,init_tok = \"<bos>\",beam_top = 10):\n",
        "  inputs = tf.convert_to_tensor(inputs)\n",
        "  result = \"\"\n",
        "  enc_hidden, enc_cell = tf.zeros((1,units)),tf.zeros((1,units))\n",
        "  enc_out, enc_hidden, enc_cell = enc_1(inputs,enc_hidden,enc_cell)\n",
        "  dec_hidden = enc_hidden\n",
        "  dec_cell = enc_cell\n",
        "  dec_input = tf.expand_dims([dic_wrd2id[init_tok]],0)\n",
        "  topk = [[[],.0,None]] \n",
        "  hidden_prev, hidden_curr = {}, {}\n",
        "  cell_prev, cell_curr = {}, {}\n",
        "  for t in range(d_max): \n",
        "    candidates = list()\n",
        "    for i, (seq,score,key_states) in enumerate(topk):\n",
        "      if seq:\n",
        "        dec_input = tf.expand_dims([seq[-1]],0)\n",
        "        dec_hidden, dec_cell = hidden_prev[key_states], cell_prev[key_states]\n",
        "      preds, dec_hidden, dec_cell, _, _ = dec_1(dec_input,enc_out,dec_hidden,dec_cell)\n",
        "      hidden_curr[i] = dec_hidden\n",
        "      cell_curr[i] = dec_cell\n",
        "      output = tf.nn.softmax(preds[0]) \n",
        "      k_largest = heapq.nlargest(beam_top,range(len(output)),np.array(output).take)\n",
        "      for j in k_largest:\n",
        "        candidate = [seq + [j],score - math.log(output[j]),i]\n",
        "        candidates.append(candidate)\n",
        "\n",
        "    hidden_prev, hidden_curr = hidden_curr, {}\n",
        "    cell_prev, cell_curr = cell_curr, {}\n",
        "    topk = sorted(candidates,key = lambda tup:tup[1])[:beam_top]\n",
        "\n",
        "  return list(map(lambda x: x[0],topk))"
      ],
      "metadata": {
        "id": "nYHgHdjnMm8i"
      },
      "execution_count": 14,
      "outputs": []
    },
    {
      "cell_type": "code",
      "source": [
        "def predict_beam(enc,dec,dt_in):   \n",
        "  start = 0\n",
        "  end = len(dt_in)\n",
        "  ls_pred_ans = list()\n",
        "\n",
        "  for j in tqdm_notebook(range(start,end)):\n",
        "    rdm_in = dt_in[j]\n",
        "    rdm_in = np.expand_dims(rdm_in,0)\n",
        "    pred_ans = eval_beam(rdm_in,id_wrd,wrd_id,LSTM_UNITS,dec_maxlen)\n",
        "\n",
        "    ls_pred_ans.append(pred_ans) \n",
        "  \n",
        "  return ls_pred_ans\n",
        "\n",
        "pred_out = predict_beam(enc_1, dec_1, enc_tok_tst)"
      ],
      "metadata": {
        "colab": {
          "base_uri": "https://localhost:8080/",
          "height": 49,
          "referenced_widgets": [
            "4d8254171fd24c5b84bb6f846d71c5b8",
            "6bbbd9cfeb7d42be9c40ac8206b76d37",
            "2fba6350809046a0b9b645b87a008b93",
            "01550727f42640dfbcf83eb4a4c2cc78",
            "e822ffa4be9b43d3a6f5d6719bc343ea",
            "96a3b51f75e4410babe4810a04879497",
            "ce8db14128e54b70abed3637b23149e5",
            "f6d3a7586b3a413eb7224e2799710ea3",
            "906ad870d8844e1ca8ab2ff751c1ca97",
            "d34649fc189f4e89b11263a5783400d5",
            "68f9abaeac944cad98dc23dbed34e141"
          ]
        },
        "id": "IqH26iZRMsjw",
        "outputId": "a18b5120-92ca-433b-9168-7b552ea84a8a"
      },
      "execution_count": 15,
      "outputs": [
        {
          "output_type": "display_data",
          "data": {
            "text/plain": [
              "  0%|          | 0/328 [00:00<?, ?it/s]"
            ],
            "application/vnd.jupyter.widget-view+json": {
              "version_major": 2,
              "version_minor": 0,
              "model_id": "4d8254171fd24c5b84bb6f846d71c5b8"
            }
          },
          "metadata": {
            "application/vnd.jupyter.widget-view+json": {
              "colab": {
                "custom_widget_manager": {
                  "url": "https://ssl.gstatic.com/colaboratory-static/widgets/colab-cdn-widget-manager/d2e234f7cc04bf79/manager.min.js"
                }
              }
            }
          }
        }
      ]
    },
    {
      "cell_type": "markdown",
      "source": [
        "# Output Generation"
      ],
      "metadata": {
        "id": "T5GZZGqoZhA5"
      }
    },
    {
      "cell_type": "markdown",
      "source": [
        "The above predictions from the model are presented as sequences of numbers which need to be converted back to readable text. The following defined functions perform this transformation and finally provide the output in a tabular format which can be downloaded in a csv file."
      ],
      "metadata": {
        "id": "2h6p86AlXMem"
      }
    },
    {
      "cell_type": "code",
      "source": [
        "def tok_sen(ls_tok,dic_id2wrd,init_tok = \"<bos>\",stop_tok = \"<eos>\",oov_tok = \"<oov>\"):\n",
        "  ls_word = list(map(lambda x: dic_id2wrd[x],ls_tok))\n",
        "  ls_sen = \"\"\n",
        "  for word in ls_word:\n",
        "    if word == stop_tok:\n",
        "      break\n",
        "    if (word != init_tok) & (word != oov_tok):\n",
        "      ls_sen = ls_sen + word + \" \"\n",
        "  sen_out = \" \".join(ls_sen.split())\n",
        "\n",
        "  return sen_out\n",
        "  \n",
        "def gen_out(qsn,ans,pred,dic_id2wrd,choose,init_tok = \"<bos>\",stop_tok = \"<eos>\",oov_tok = \"<oov>\"):\n",
        "  ls_qsn = [\" \".join(sen.replace(init_tok,\"\").replace(stop_tok,\"\").replace(oov_tok,\"\").split()) for sen in qsn]\n",
        "  ls_ans = [\" \".join(sen.replace(init_tok,\"\").replace(stop_tok,\"\").replace(oov_tok,\"\").split()) for sen in ans]\n",
        "  df_1 = pd.DataFrame({\"Question\": ls_qsn,\"Actual_Answer\": ls_ans})\n",
        "  ls_pred = list()\n",
        "  for res in pred:\n",
        "    pred_out = list()\n",
        "    preds = list(map(lambda x: tok_sen(x,id_wrd),res))\n",
        "    for pred_sen in preds:\n",
        "      if (\" \".join(pred_sen.strip(string.punctuation).split()) not in \\\n",
        "          list(map(lambda x: \" \".join(x.strip(string.punctuation).split()),pred_out))) & (pred_sen not in pred_out):\n",
        "        pred_out.append(pred_sen)\n",
        "    pred_out = [\" \".join(sen.replace(\" .\",\".\").replace(\" ?\",\"?\").replace(\" !\",\"!\").split()).capitalize() \\\n",
        "                for sen in pred_out[:choose]]\n",
        "    ls_pred.append(pred_out)\n",
        "\n",
        "  df_2 = pd.DataFrame(ls_pred)\n",
        "  df_2.columns = [\"Mod_Response_\" + x for x in list(map(str,list(range(choose + 1))[1:]))]\n",
        "  df_out = pd.concat([df_1,df_2],axis = 1)\n",
        "\n",
        "  return df_out\n",
        "\n",
        "df_res = gen_out(enc_in_tst,dec_in_tst,pred_out,id_wrd,choose = 5)\n",
        "df_res.to_csv(\"Demo_Results.csv\")\n",
        "g_files.download(\"Demo_Results.csv\")"
      ],
      "metadata": {
        "colab": {
          "base_uri": "https://localhost:8080/",
          "height": 17
        },
        "id": "e1GVl4NjMtkd",
        "outputId": "7f173f65-8b78-40a8-bf49-c733e8084a43"
      },
      "execution_count": 16,
      "outputs": [
        {
          "output_type": "display_data",
          "data": {
            "text/plain": [
              "<IPython.core.display.Javascript object>"
            ],
            "application/javascript": [
              "\n",
              "    async function download(id, filename, size) {\n",
              "      if (!google.colab.kernel.accessAllowed) {\n",
              "        return;\n",
              "      }\n",
              "      const div = document.createElement('div');\n",
              "      const label = document.createElement('label');\n",
              "      label.textContent = `Downloading \"${filename}\": `;\n",
              "      div.appendChild(label);\n",
              "      const progress = document.createElement('progress');\n",
              "      progress.max = size;\n",
              "      div.appendChild(progress);\n",
              "      document.body.appendChild(div);\n",
              "\n",
              "      const buffers = [];\n",
              "      let downloaded = 0;\n",
              "\n",
              "      const channel = await google.colab.kernel.comms.open(id);\n",
              "      // Send a message to notify the kernel that we're ready.\n",
              "      channel.send({})\n",
              "\n",
              "      for await (const message of channel.messages) {\n",
              "        // Send a message to notify the kernel that we're ready.\n",
              "        channel.send({})\n",
              "        if (message.buffers) {\n",
              "          for (const buffer of message.buffers) {\n",
              "            buffers.push(buffer);\n",
              "            downloaded += buffer.byteLength;\n",
              "            progress.value = downloaded;\n",
              "          }\n",
              "        }\n",
              "      }\n",
              "      const blob = new Blob(buffers, {type: 'application/binary'});\n",
              "      const a = document.createElement('a');\n",
              "      a.href = window.URL.createObjectURL(blob);\n",
              "      a.download = filename;\n",
              "      div.appendChild(a);\n",
              "      a.click();\n",
              "      div.remove();\n",
              "    }\n",
              "  "
            ]
          },
          "metadata": {}
        },
        {
          "output_type": "display_data",
          "data": {
            "text/plain": [
              "<IPython.core.display.Javascript object>"
            ],
            "application/javascript": [
              "download(\"download_63d462b3-5d3d-41c3-ac9f-4f74b2c5e88c\", \"Demo_Results.csv\", 50157)"
            ]
          },
          "metadata": {}
        }
      ]
    }
  ]
}